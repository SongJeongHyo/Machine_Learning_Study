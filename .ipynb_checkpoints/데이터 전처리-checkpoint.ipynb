{
 "cells": [
  {
   "cell_type": "markdown",
   "id": "eb329fb5",
   "metadata": {},
   "source": [
    "## 결측치 처리\n",
    "데이터 셋에서 없는 것(Missing value)\n",
    "\n",
    "<방법>\n",
    "평균값 넣기\n",
    "최빈값 넣기\n",
    "혹은 날려버리기\n",
    "\n",
    "결측치를 확인하는 코드(결측치의 총 데이터개수) : df.insull().sum()\n",
    "\n",
    "결측치를 0으로 채우는 코드 : df.fillna(0)"
   ]
  },
  {
   "cell_type": "markdown",
   "id": "915458e8",
   "metadata": {},
   "source": [
    "## 범주형 변수 처리\n",
    "1. 원-핫 인코딩\n",
    "-> 범주형 변수를 0또는 1값으로 가지는 새로운 feature로 바꾸는 것.\n",
    "\n",
    "예) red : 0 1 0 / green : 1 0 0 \n",
    "\n",
    "코드 : from sklearn.preprocessing import OneHotEncoder\n",
    "\n",
    "\n",
    "\n",
    "2. 데이터 바인딩\n",
    "-> 연속형 데이터를 구간으로 나누어서 범주화 하는 것.\n"
   ]
  },
  {
   "cell_type": "markdown",
   "id": "b27358b7",
   "metadata": {},
   "source": [
    "## Feature scaling\n",
    "모델에 있어서 데이터의 feature를 맞추는 것.\n",
    "\n",
    "데이터의 값이 너무 크거나 작아서 변수에 제대로 영향을 미치지 못하는 경우에 feature를 조절하기 위해서 사용하는 것.\n",
    "\n",
    "\n",
    "1. Min-Max Normalization\n",
    "-> 최솟값과 최대값을 이용해서 0과 1사이의 범위로 데이터를 표준화 시키는 것.\n",
    "\n",
    "코드 : from sklearn.preprocessing import minmax_scale()\n",
    "\n",
    "2. Standardization\n",
    "-> 표준화 확률 변수를 구하는 방법, Z score를 구하는 방법.\n"
   ]
  }
 ],
 "metadata": {
  "kernelspec": {
   "display_name": "Python 3 (ipykernel)",
   "language": "python",
   "name": "python3"
  },
  "language_info": {
   "codemirror_mode": {
    "name": "ipython",
    "version": 3
   },
   "file_extension": ".py",
   "mimetype": "text/x-python",
   "name": "python",
   "nbconvert_exporter": "python",
   "pygments_lexer": "ipython3",
   "version": "3.7.0"
  }
 },
 "nbformat": 4,
 "nbformat_minor": 5
}
