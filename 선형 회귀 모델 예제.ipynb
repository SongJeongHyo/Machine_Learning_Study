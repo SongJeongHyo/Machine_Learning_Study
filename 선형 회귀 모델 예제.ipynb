{
 "cells": [
  {
   "cell_type": "markdown",
   "id": "592d3f75",
   "metadata": {},
   "source": [
    "## 선형 회귀 모델 구현\n",
    "\n",
    "### 수학 점수 예측하기"
   ]
  },
  {
   "cell_type": "code",
   "execution_count": 3,
   "id": "1f7d9879",
   "metadata": {},
   "outputs": [],
   "source": [
    "import numpy as np"
   ]
  },
  {
   "cell_type": "code",
   "execution_count": 4,
   "id": "711ad367",
   "metadata": {},
   "outputs": [],
   "source": [
    "import matplotlib.pyplot as plt"
   ]
  },
  {
   "cell_type": "code",
   "execution_count": 5,
   "id": "120794b0",
   "metadata": {},
   "outputs": [],
   "source": [
    "height = np.array([183, 150, 180, 197, 160, 175])\n",
    "height = height.reshape(-1,1) #2차원"
   ]
  },
  {
   "cell_type": "code",
   "execution_count": 6,
   "id": "6667df83",
   "metadata": {},
   "outputs": [],
   "source": [
    "math = np.array([85, 45, 80, 99, 45, 75])"
   ]
  },
  {
   "cell_type": "markdown",
   "id": "11c79a52",
   "metadata": {},
   "source": [
    "### scikit - learn import"
   ]
  },
  {
   "cell_type": "code",
   "execution_count": 7,
   "id": "375f7368",
   "metadata": {},
   "outputs": [],
   "source": [
    "from sklearn.linear_model import LinearRegression"
   ]
  },
  {
   "cell_type": "code",
   "execution_count": 8,
   "id": "4e96e478",
   "metadata": {},
   "outputs": [],
   "source": [
    "line_fitter = LinearRegression()"
   ]
  },
  {
   "cell_type": "code",
   "execution_count": 9,
   "id": "b43085d4",
   "metadata": {},
   "outputs": [
    {
     "data": {
      "text/plain": [
       "LinearRegression()"
      ]
     },
     "execution_count": 9,
     "metadata": {},
     "output_type": "execute_result"
    }
   ],
   "source": [
    "line_fitter.fit(height, math)\n",
    "\n",
    "#fit() 메서드는 선형 회귀 모델에 필요한 두 가지 변수를 전달하는 것.\n",
    "\n",
    "#fit()함수 : line_fitter.coef_ : 기울기 저장\n",
    "#fit()함수 : line_fitter.intercept_ : 절편을 저장"
   ]
  },
  {
   "cell_type": "code",
   "execution_count": 10,
   "id": "f608b18e",
   "metadata": {},
   "outputs": [],
   "source": [
    "score_predict = line_fitter.predict(height)\n",
    "\n",
    "#키와 성적간의 상관관계를 나타내는 회귀식\n",
    "\n",
    "#점수예측을 height를 통해 할 것이다."
   ]
  },
  {
   "cell_type": "code",
   "execution_count": 22,
   "id": "74b22e76",
   "metadata": {
    "scrolled": true
   },
   "outputs": [
    {
     "data": {
      "image/png": "[encoded data removed]",
      "text/plain": [
       "<Figure size 432x288 with 1 Axes>"
      ]
     },
     "metadata": {
      "needs_background": "light"
     },
     "output_type": "display_data"
    },
    {
     "name": "stdout",
     "output_type": "stream",
     "text": [
      "[ 82.8028897   40.57699988  78.96417244 100.71690356  53.37272407\n",
      "  72.56631035]\n"
     ]
    }
   ],
   "source": [
    "plt.plot(height, math, 'o')\n",
    "plt.plot(height, score_predict)\n",
    "\n",
    "plt.show()\n",
    "\n",
    "print(score_predict)\n",
    "\n",
    "# X는 height에 따른 math의 성적의미 데이터"
   ]
  },
  {
   "cell_type": "code",
   "execution_count": 12,
   "id": "b3e7d362",
   "metadata": {},
   "outputs": [
    {
     "data": {
      "text/plain": [
       "array([1.27957242])"
      ]
     },
     "execution_count": 12,
     "metadata": {},
     "output_type": "execute_result"
    }
   ],
   "source": [
    "line_fitter.coef_\n",
    "\n",
    "#기울기"
   ]
  },
  {
   "cell_type": "code",
   "execution_count": 13,
   "id": "1a5699a0",
   "metadata": {},
   "outputs": [
    {
     "data": {
      "text/plain": [
       "-151.35886291554093"
      ]
     },
     "execution_count": 13,
     "metadata": {},
     "output_type": "execute_result"
    }
   ],
   "source": [
    "line_fitter.intercept_\n",
    "\n",
    "#절편"
   ]
  },
  {
   "cell_type": "markdown",
   "id": "7556b557",
   "metadata": {},
   "source": [
    "### 성능 평가"
   ]
  },
  {
   "cell_type": "code",
   "execution_count": 14,
   "id": "4618ff19",
   "metadata": {},
   "outputs": [],
   "source": [
    "from sklearn.metrics import mean_squared_error"
   ]
  },
  {
   "cell_type": "code",
   "execution_count": 15,
   "id": "2d4c1c7a",
   "metadata": {},
   "outputs": [
    {
     "name": "stdout",
     "output_type": "stream",
     "text": [
      "Mean_Squared_Error :  17.406045655663863\n"
     ]
    }
   ],
   "source": [
    "print(\"Mean_Squared_Error : \", mean_squared_error(score_predict, math))\n",
    "\n",
    "#MSE : \n",
    "#- 실제 값과 예측 값의 차이를 제곱해 평균화\n",
    "#- 예측값과 실제값 차이의 면적의 합\n",
    "#- 특이값이 존재하면 수치가 많이 늘어난다."
   ]
  },
  {
   "cell_type": "code",
   "execution_count": 16,
   "id": "13abdd9e",
   "metadata": {},
   "outputs": [
    {
     "name": "stdout",
     "output_type": "stream",
     "text": [
      "RMSE :  4.172055327493137\n"
     ]
    }
   ],
   "source": [
    "print(\"RMSE : \", mean_squared_error(score_predict, math)**0.5)\n",
    "\n",
    "#RMSE\n",
    "# - MSE 값은 오류의 제곱을 구하므로 실제 오류 평균보다 더 커지는 특성이 있어 MSE에 루트를 씌운 RMSE 값을 쓴다.\n",
    "# - 에러에 제곱을 하기 때문에 에러가 크면 클수록 그에 따른 가중치가 높이 반영된다. 그러므로 예측 결과물의 에러가 10이 나온 것이 5로 나온 것보다, 정확히 2^2(4)배가 나쁜 도메인에서 쓰기 적합한 산식이다.\n",
    "# - 에러에 따른 손실이 기하 급수적으로 올라가는 상황에서 쓰기 적합하다."
   ]
  },
  {
   "cell_type": "code",
   "execution_count": 17,
   "id": "f01131c0",
   "metadata": {},
   "outputs": [
    {
     "name": "stdout",
     "output_type": "stream",
     "text": [
      "score:  0.9569778480189565\n"
     ]
    }
   ],
   "source": [
    "print('score: ', line_fitter.score(height, math))\n",
    "\n",
    "#95.6%로 정확도 계산."
   ]
  }
 ],
 "metadata": {
  "kernelspec": {
   "display_name": "Python 3 (ipykernel)",
   "language": "python",
   "name": "python3"
  },
  "language_info": {
   "codemirror_mode": {
    "name": "ipython",
    "version": 3
   },
   "file_extension": ".py",
   "mimetype": "text/x-python",
   "name": "python",
   "nbconvert_exporter": "python",
   "pygments_lexer": "ipython3",
   "version": "3.7.0"
  }
 },
 "nbformat": 4,
 "nbformat_minor": 5
}
